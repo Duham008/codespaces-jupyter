{
 "cells": [
  {
   "cell_type": "code",
   "execution_count": null,
   "metadata": {},
   "outputs": [],
   "source": []
  },
  {
   "cell_type": "code",
   "execution_count": null,
   "metadata": {},
   "outputs": [],
   "source": [
    "numero1=float(_input(\"escribe un numero\"))\n",
    "numero2=float(input(\"escribe otro numero\"))\n",
    "a1 = numero1+numero2\n",
    "c = numero1*numero2\n",
    "\n",
    "if numero1 >= numero2:\n",
    "    print(a1)\n",
    "if numero1<=numero2\n",
    "    print(c)\n",
    "\n"
   ]
  }
 ],
 "metadata": {
  "language_info": {
   "name": "python"
  }
 },
 "nbformat": 4,
 "nbformat_minor": 2
}
