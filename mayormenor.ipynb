{
 "cells": [
  {
   "cell_type": "code",
   "execution_count": null,
   "metadata": {},
   "outputs": [],
   "source": [
    "variable1 = float(input(\"escribe tu numero entero\"))\n",
    "variable2 = float(input(\"escribe tu otro numero entero\"))\n",
    "if variable1>variable2:\n",
    "    print(\"el numero uno es mayor\")\n",
    "else:\n",
    "    print(\"el numero doce es mayor\")\n",
    "    \n"
   ]
  }
 ],
 "metadata": {
  "language_info": {
   "name": "python"
  }
 },
 "nbformat": 4,
 "nbformat_minor": 2
}
