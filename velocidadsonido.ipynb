{
 "cells": [
  {
   "cell_type": "code",
   "execution_count": null,
   "metadata": {},
   "outputs": [],
   "source": [
    "distancia=float(input(escribe la distancia en metros que quieres que recorra el sonido))\n",
    "velocidad_del_sonido = 343\n",
    "tiempo = distancia / velocidad_del_sonido\n",
    "print(tiempo)\n"
   ]
  }
 ],
 "metadata": {
  "language_info": {
   "name": "python"
  }
 },
 "nbformat": 4,
 "nbformat_minor": 2
}
